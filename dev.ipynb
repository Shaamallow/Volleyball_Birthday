{
 "cells": [
  {
   "cell_type": "markdown",
   "metadata": {},
   "source": [
    "# Projet Anniversaire Section"
   ]
  },
  {
   "cell_type": "markdown",
   "metadata": {},
   "source": [
    "L'objectif est de dev une interface graphique pour afficher automatiquement les anniversaires de la section volley le jour J"
   ]
  },
  {
   "cell_type": "markdown",
   "metadata": {},
   "source": [
    "Cahier des Charges : \n",
    "- Detecter automatiquement les anniversaires de la section\n",
    "- Afficher en grand sur l'ordi du BE l'anniversaire de (ou des) dites personnes pendant un temps donné (_à chaque sortie de veille de l'ordi de 0h00 à 11h00_)"
   ]
  },
  {
   "cell_type": "markdown",
   "metadata": {},
   "source": [
    "### Récupération de la liste des anniversaires de la section non ordonnée"
   ]
  },
  {
   "cell_type": "code",
   "execution_count": 106,
   "metadata": {},
   "outputs": [
    {
     "name": "stdout",
     "output_type": "stream",
     "text": [
      "                 Nom      Prenom      Anniv next_birthday\n",
      "25          Lefebvre   Alexandre 2001-06-05    2022-06-05\n",
      "35           Sancier   Charlotte 2002-06-21    2022-06-21\n",
      "0          Beaugrand      Hélène 2000-06-24    2022-06-24\n",
      "27            Millet     Antoine 2001-07-25    2022-07-25\n",
      "8           Daubagna     Pauline 2001-07-25    2022-07-25\n",
      "24         Le Maguet        Loan 2003-07-27    2022-07-27\n",
      "17               Hys      Sakula 2000-08-07    2022-08-07\n",
      "34            Robert      Thomas 2000-08-16    2022-08-16\n",
      "41             Wiber       Robin 2001-08-22    2022-08-22\n",
      "13         Gaboriaud        Théo 2001-08-24    2022-08-24\n",
      "9           Dorseuil    Valentin 2001-09-01    2022-09-01\n",
      "42            Zhuang      Victor 2001-09-04    2022-09-04\n",
      "32             Price       Ambre 2000-09-10    2022-09-10\n",
      "16            Hebaz      Yassine 2001-09-12    2022-09-12\n",
      "3             Bogoni   Francesco 2002-09-12    2022-09-12\n",
      "38          Tannoury        Lara 2001-09-18    2022-09-18\n",
      "28           Morange      Martin 2001-09-23    2022-09-23\n",
      "36          Saulquin      Victor 2001-09-25    2022-09-25\n",
      "29            Moutet      Maxime 2000-10-06    2022-10-06\n",
      "6          Bustarret      Gaëlle 2001-11-11    2022-11-11\n",
      "26           Marguet      Emeric 2002-11-19    2022-11-19\n",
      "15           Gisclon       Jonah 2001-11-20    2022-11-20\n",
      "10           Duprieu       Henri 2001-12-10    2022-12-10\n",
      "33              Raux      Amélie 2001-12-14    2022-12-14\n",
      "14              Gent        Paul 2000-12-24    2022-12-24\n",
      "23           Lamrous        Adam 2002-12-26    2022-12-26\n",
      "37  Tanaka Montalvão        João 2001-12-29    2022-12-29\n",
      "12             Fabre    Matthias 2001-12-31    2022-12-31\n",
      "40           Valette        Lino 2001-01-08    2023-01-08\n",
      "7           Cazenave     Nicolas 2001-01-26    2023-01-26\n",
      "31          Pinochet      Lucile 2001-01-26    2023-01-26\n",
      "19           Janicot        Paul 2002-01-29    2023-01-29\n",
      "39            Ternil        Paul 2003-02-07    2023-02-07\n",
      "1          Benaroche        Eyal 2002-02-09    2023-02-09\n",
      "20             Kadri      Victor 2002-02-14    2023-02-14\n",
      "5            Bulteau  Barthélémy 2001-02-17    2023-02-17\n",
      "43              Ziat     Oussama 2002-02-22    2023-02-22\n",
      "11          El Hafdi       Smail 2000-03-27    2023-03-27\n",
      "30           Perdrix       Louis 2002-04-19    2023-04-19\n",
      "4             Brunel     Clément 2002-04-22    2023-04-22\n",
      "22      Lam Kon Seng         Léo 2000-05-16    2023-05-16\n",
      "18               Jan      Léopol 2001-05-17    2023-05-17\n",
      "21             Karam        Paul 2001-05-29    2023-05-29\n",
      "2          Benfraiha       Mehdi 2000-06-02    2023-06-02\n",
      "2022-06-03\n"
     ]
    }
   ],
   "source": [
    "import pandas as pd\n",
    "import smtplib, ssl\n",
    "import datetime\n",
    "\n",
    "#on test si l'import est OK\n",
    "liste_volley = pd.read_csv(r'./liste_volley.csv')\n",
    "liste_volley=liste_volley.drop(columns=\"Mail\")\n",
    "for i in range(liste_volley.shape[0]) :\n",
    "\n",
    "    liste_volley[\"Anniv\"][i]=\"-\".join(liste_volley[\"Anniv\"][i].split(\"/\")[::-1])\n",
    "\n",
    "liste_volley[\"next_birthday\"]=[\"2022\"+liste_volley[\"Anniv\"][i][4:] for i in range(liste_volley.shape[0])]\n",
    "\n",
    "\n",
    "for i in range(liste_volley.shape[0]) :\n",
    "    lv = liste_volley[\"next_birthday\"][i]\n",
    "    d = datetime.date(int(lv[:4]), int(lv[5:7]), int(lv[8:]))\n",
    "    #print(d)\n",
    "    if d<datetime.date.today() :\n",
    "\n",
    "        liste_volley[\"next_birthday\"][i]=\"2023\"+lv[4:]\n",
    "\n",
    "\n",
    "liste_volley[\"Anniv\"]=pd.to_datetime(liste_volley[\"Anniv\"])\n",
    "liste_volley[\"next_birthday\"]=pd.to_datetime(liste_volley[\"next_birthday\"])\n",
    "liste_volley=liste_volley.sort_values(by=\"next_birthday\")\n",
    "\n",
    "#A LA FIN DE L'EXECUTION DU SCRIPT => Anniv classés dans l'ordre avec le prochain anniv en HAUT\n",
    "\n",
    "print(liste_volley) #liste des anniv dans l'ordre des annivs\n",
    "    \n",
    "print(datetime.date.today())\n",
    "\n"
   ]
  },
  {
   "cell_type": "markdown",
   "metadata": {},
   "source": [
    "Ajouter potentiellement un compteur pour le \"prochain\" anniversaire !"
   ]
  }
 ],
 "metadata": {
  "interpreter": {
   "hash": "e7370f93d1d0cde622a1f8e1c04877d8463912d04d973331ad4851f04de6915a"
  },
  "kernelspec": {
   "display_name": "Python 3.8.10 64-bit",
   "language": "python",
   "name": "python3"
  },
  "language_info": {
   "name": "python",
   "version": "3.8.10"
  },
  "orig_nbformat": 4
 },
 "nbformat": 4,
 "nbformat_minor": 2
}
